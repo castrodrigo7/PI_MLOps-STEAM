{
 "cells": [
  {
   "cell_type": "code",
   "execution_count": 1,
   "metadata": {},
   "outputs": [],
   "source": [
    "import pandas as pd"
   ]
  },
  {
   "cell_type": "code",
   "execution_count": 2,
   "metadata": {},
   "outputs": [],
   "source": [
    "df = pd.read_parquet('datasets/dfgames.parquet')\n",
    "df_reviews = pd.read_parquet('datasets/user_reviews.parquet')\n",
    "df_items = pd.read_parquet('datasets/users_item.parquet')"
   ]
  },
  {
   "cell_type": "code",
   "execution_count": 3,
   "metadata": {},
   "outputs": [
    {
     "name": "stdout",
     "output_type": "stream",
     "text": [
      "<class 'pandas.core.frame.DataFrame'>\n",
      "RangeIndex: 29781 entries, 0 to 29780\n",
      "Data columns (total 26 columns):\n",
      " #   Column                     Non-Null Count  Dtype \n",
      "---  ------                     --------------  ----- \n",
      " 0   app_name                   29780 non-null  object\n",
      " 1   id                         29781 non-null  int32 \n",
      " 2   developer                  28531 non-null  object\n",
      " 3   Accounting                 29781 non-null  int32 \n",
      " 4   Action                     29781 non-null  int32 \n",
      " 5   Adventure                  29781 non-null  int32 \n",
      " 6   Animation &amp; Modeling   29781 non-null  int32 \n",
      " 7   Audio Production           29781 non-null  int32 \n",
      " 8   Casual                     29781 non-null  int32 \n",
      " 9   Design &amp; Illustration  29781 non-null  int32 \n",
      " 10  Early Access               29781 non-null  int32 \n",
      " 11  Education                  29781 non-null  int32 \n",
      " 12  Free to Play               29781 non-null  int32 \n",
      " 13  Indie                      29781 non-null  int32 \n",
      " 14  Massively Multiplayer      29781 non-null  int32 \n",
      " 15  Photo Editing              29781 non-null  int32 \n",
      " 16  RPG                        29781 non-null  int32 \n",
      " 17  Racing                     29781 non-null  int32 \n",
      " 18  Simulation                 29781 non-null  int32 \n",
      " 19  Software Training          29781 non-null  int32 \n",
      " 20  Sports                     29781 non-null  int32 \n",
      " 21  Strategy                   29781 non-null  int32 \n",
      " 22  Utilities                  29781 non-null  int32 \n",
      " 23  Video Production           29781 non-null  int32 \n",
      " 24  Web Publishing             29781 non-null  int32 \n",
      " 25  year                       29781 non-null  int32 \n",
      "dtypes: int32(24), object(2)\n",
      "memory usage: 3.2+ MB\n"
     ]
    }
   ],
   "source": [
    "df.info()"
   ]
  },
  {
   "cell_type": "code",
   "execution_count": 4,
   "metadata": {},
   "outputs": [
    {
     "name": "stdout",
     "output_type": "stream",
     "text": [
      "<class 'pandas.core.frame.DataFrame'>\n",
      "RangeIndex: 49186 entries, 0 to 49185\n",
      "Data columns (total 5 columns):\n",
      " #   Column              Non-Null Count  Dtype \n",
      "---  ------              --------------  ----- \n",
      " 0   user_id             49186 non-null  object\n",
      " 1   item_id             49186 non-null  int32 \n",
      " 2   recommend           49186 non-null  bool  \n",
      " 3   posted year         49186 non-null  int32 \n",
      " 4   sentiment_analysis  49186 non-null  int32 \n",
      "dtypes: bool(1), int32(3), object(1)\n",
      "memory usage: 1008.8+ KB\n"
     ]
    }
   ],
   "source": [
    "df_reviews.info()"
   ]
  },
  {
   "cell_type": "code",
   "execution_count": 5,
   "metadata": {},
   "outputs": [
    {
     "name": "stdout",
     "output_type": "stream",
     "text": [
      "<class 'pandas.core.frame.DataFrame'>\n",
      "Index: 5153209 entries, 0 to 6\n",
      "Data columns (total 3 columns):\n",
      " #   Column            Dtype \n",
      "---  ------            ----- \n",
      " 0   item_id           int32 \n",
      " 1   item_name         object\n",
      " 2   playtime_forever  int32 \n",
      "dtypes: int32(2), object(1)\n",
      "memory usage: 117.9+ MB\n"
     ]
    }
   ],
   "source": [
    "df_items.info()"
   ]
  }
 ],
 "metadata": {
  "kernelspec": {
   "display_name": "Python 3",
   "language": "python",
   "name": "python3"
  },
  "language_info": {
   "codemirror_mode": {
    "name": "ipython",
    "version": 3
   },
   "file_extension": ".py",
   "mimetype": "text/x-python",
   "name": "python",
   "nbconvert_exporter": "python",
   "pygments_lexer": "ipython3",
   "version": "3.12.0"
  }
 },
 "nbformat": 4,
 "nbformat_minor": 2
}
